{
 "cells": [
  {
   "cell_type": "code",
   "execution_count": 142,
   "metadata": {
    "collapsed": true
   },
   "outputs": [],
   "source": [
    "import pandas as pd\n",
    "\n",
    "data = {\n",
    "    \"ontology\": [0.03993391990661621, 0.08662986755371094, 0.07849383354187012],\n",
    "    \"ah\": [24.676761865615845, 26.81848120689392, 27.245759963989258],\n",
    "    \"er\": [144.4293179512024, 148.95185589790344, 157.85572981834412],\n",
    "    \"gr\": [57.92736101150513, 58.04327702522278, 63.89013075828552],\n",
    "    \"iw\": [125.51392006874084, 127.08702683448792, 133.3230299949646],\n",
    "    \"kl\": [30.138803958892822, 30.36555290222168, 32.33726096153259],\n",
    "    \"ly\": [10.755175828933716, 10.815240859985352, 11.117337942123413],\n",
    "    \"dict\": [15.00589895248413, 15.032188892364502, 15.226519107818604],\n",
    "    \"total\": [408.49302983283997, 417.221351146698, 441.0959107875824]\n",
    "}\n",
    "\n",
    "df = pd.DataFrame(data=data)"
   ]
  },
  {
   "cell_type": "code",
   "execution_count": 143,
   "metadata": {
    "collapsed": false
   },
   "outputs": [
    {
     "data": {
      "text/plain": [
       "0    408.487174\n",
       "1    417.200253\n",
       "2    441.074262\n",
       "dtype: float64"
      ]
     },
     "execution_count": 143,
     "metadata": {},
     "output_type": "execute_result"
    }
   ],
   "source": [
    "df[df.columns.drop(\"total\")].apply(sum, axis=1)"
   ]
  },
  {
   "cell_type": "code",
   "execution_count": 144,
   "metadata": {
    "collapsed": false
   },
   "outputs": [
    {
     "data": {
      "text/html": [
       "<div>\n",
       "<style>\n",
       "    .dataframe thead tr:only-child th {\n",
       "        text-align: right;\n",
       "    }\n",
       "\n",
       "    .dataframe thead th {\n",
       "        text-align: left;\n",
       "    }\n",
       "\n",
       "    .dataframe tbody tr th {\n",
       "        vertical-align: top;\n",
       "    }\n",
       "</style>\n",
       "<table border=\"1\" class=\"dataframe\">\n",
       "  <thead>\n",
       "    <tr style=\"text-align: right;\">\n",
       "      <th></th>\n",
       "      <th>ah</th>\n",
       "      <th>dict</th>\n",
       "      <th>er</th>\n",
       "      <th>gr</th>\n",
       "      <th>iw</th>\n",
       "      <th>kl</th>\n",
       "      <th>ly</th>\n",
       "      <th>ontology</th>\n",
       "      <th>total</th>\n",
       "    </tr>\n",
       "  </thead>\n",
       "  <tbody>\n",
       "    <tr>\n",
       "      <th>trial0</th>\n",
       "      <td>24.676762</td>\n",
       "      <td>15.005899</td>\n",
       "      <td>144.429318</td>\n",
       "      <td>57.927361</td>\n",
       "      <td>125.513920</td>\n",
       "      <td>30.138804</td>\n",
       "      <td>10.755176</td>\n",
       "      <td>0.039934</td>\n",
       "      <td>408.493030</td>\n",
       "    </tr>\n",
       "    <tr>\n",
       "      <th>trial1</th>\n",
       "      <td>26.818481</td>\n",
       "      <td>15.032189</td>\n",
       "      <td>148.951856</td>\n",
       "      <td>58.043277</td>\n",
       "      <td>127.087027</td>\n",
       "      <td>30.365553</td>\n",
       "      <td>10.815241</td>\n",
       "      <td>0.086630</td>\n",
       "      <td>417.221351</td>\n",
       "    </tr>\n",
       "    <tr>\n",
       "      <th>trial2</th>\n",
       "      <td>27.245760</td>\n",
       "      <td>15.226519</td>\n",
       "      <td>157.855730</td>\n",
       "      <td>63.890131</td>\n",
       "      <td>133.323030</td>\n",
       "      <td>32.337261</td>\n",
       "      <td>11.117338</td>\n",
       "      <td>0.078494</td>\n",
       "      <td>441.095911</td>\n",
       "    </tr>\n",
       "  </tbody>\n",
       "</table>\n",
       "</div>"
      ],
      "text/plain": [
       "               ah       dict          er         gr          iw         kl  \\\n",
       "trial0  24.676762  15.005899  144.429318  57.927361  125.513920  30.138804   \n",
       "trial1  26.818481  15.032189  148.951856  58.043277  127.087027  30.365553   \n",
       "trial2  27.245760  15.226519  157.855730  63.890131  133.323030  32.337261   \n",
       "\n",
       "               ly  ontology       total  \n",
       "trial0  10.755176  0.039934  408.493030  \n",
       "trial1  10.815241  0.086630  417.221351  \n",
       "trial2  11.117338  0.078494  441.095911  "
      ]
     },
     "execution_count": 144,
     "metadata": {},
     "output_type": "execute_result"
    }
   ],
   "source": [
    "df.index = [\"trial\"+str(i) for i in range(len(df.index))]\n",
    "df"
   ]
  },
  {
   "cell_type": "code",
   "execution_count": 145,
   "metadata": {
    "collapsed": false
   },
   "outputs": [
    {
     "data": {
      "text/plain": [
       "ah           26.25 seconds\n",
       "dict         15.09 seconds\n",
       "er          150.41 seconds\n",
       "gr           59.95 seconds\n",
       "iw          128.64 seconds\n",
       "kl           30.95 seconds\n",
       "ly           10.90 seconds\n",
       "ontology      0.07 seconds\n",
       "total       422.27 seconds\n",
       "dtype: object"
      ]
     },
     "execution_count": 145,
     "metadata": {},
     "output_type": "execute_result"
    }
   ],
   "source": [
    "df.mean(axis=0).apply(lambda x: \"%.2f seconds\" % x)"
   ]
  },
  {
   "cell_type": "code",
   "execution_count": 146,
   "metadata": {
    "collapsed": false
   },
   "outputs": [],
   "source": [
    "df.loc[\"mean\"] = df.mean(axis=0)"
   ]
  },
  {
   "cell_type": "code",
   "execution_count": 147,
   "metadata": {
    "collapsed": false
   },
   "outputs": [
    {
     "data": {
      "text/html": [
       "<div>\n",
       "<style>\n",
       "    .dataframe thead tr:only-child th {\n",
       "        text-align: right;\n",
       "    }\n",
       "\n",
       "    .dataframe thead th {\n",
       "        text-align: left;\n",
       "    }\n",
       "\n",
       "    .dataframe tbody tr th {\n",
       "        vertical-align: top;\n",
       "    }\n",
       "</style>\n",
       "<table border=\"1\" class=\"dataframe\">\n",
       "  <thead>\n",
       "    <tr style=\"text-align: right;\">\n",
       "      <th></th>\n",
       "      <th>ah</th>\n",
       "      <th>dict</th>\n",
       "      <th>er</th>\n",
       "      <th>gr</th>\n",
       "      <th>iw</th>\n",
       "      <th>kl</th>\n",
       "      <th>ly</th>\n",
       "      <th>ontology</th>\n",
       "      <th>total</th>\n",
       "    </tr>\n",
       "  </thead>\n",
       "  <tbody>\n",
       "    <tr>\n",
       "      <th>trial0</th>\n",
       "      <td>24.676762</td>\n",
       "      <td>15.005899</td>\n",
       "      <td>144.429318</td>\n",
       "      <td>57.927361</td>\n",
       "      <td>125.513920</td>\n",
       "      <td>30.138804</td>\n",
       "      <td>10.755176</td>\n",
       "      <td>0.039934</td>\n",
       "      <td>408.493030</td>\n",
       "    </tr>\n",
       "    <tr>\n",
       "      <th>trial1</th>\n",
       "      <td>26.818481</td>\n",
       "      <td>15.032189</td>\n",
       "      <td>148.951856</td>\n",
       "      <td>58.043277</td>\n",
       "      <td>127.087027</td>\n",
       "      <td>30.365553</td>\n",
       "      <td>10.815241</td>\n",
       "      <td>0.086630</td>\n",
       "      <td>417.221351</td>\n",
       "    </tr>\n",
       "    <tr>\n",
       "      <th>trial2</th>\n",
       "      <td>27.245760</td>\n",
       "      <td>15.226519</td>\n",
       "      <td>157.855730</td>\n",
       "      <td>63.890131</td>\n",
       "      <td>133.323030</td>\n",
       "      <td>32.337261</td>\n",
       "      <td>11.117338</td>\n",
       "      <td>0.078494</td>\n",
       "      <td>441.095911</td>\n",
       "    </tr>\n",
       "    <tr>\n",
       "      <th>mean</th>\n",
       "      <td>26.247001</td>\n",
       "      <td>15.088202</td>\n",
       "      <td>150.412301</td>\n",
       "      <td>59.953590</td>\n",
       "      <td>128.641326</td>\n",
       "      <td>30.947206</td>\n",
       "      <td>10.895918</td>\n",
       "      <td>0.068353</td>\n",
       "      <td>422.270097</td>\n",
       "    </tr>\n",
       "  </tbody>\n",
       "</table>\n",
       "</div>"
      ],
      "text/plain": [
       "               ah       dict          er         gr          iw         kl  \\\n",
       "trial0  24.676762  15.005899  144.429318  57.927361  125.513920  30.138804   \n",
       "trial1  26.818481  15.032189  148.951856  58.043277  127.087027  30.365553   \n",
       "trial2  27.245760  15.226519  157.855730  63.890131  133.323030  32.337261   \n",
       "mean    26.247001  15.088202  150.412301  59.953590  128.641326  30.947206   \n",
       "\n",
       "               ly  ontology       total  \n",
       "trial0  10.755176  0.039934  408.493030  \n",
       "trial1  10.815241  0.086630  417.221351  \n",
       "trial2  11.117338  0.078494  441.095911  \n",
       "mean    10.895918  0.068353  422.270097  "
      ]
     },
     "execution_count": 147,
     "metadata": {},
     "output_type": "execute_result"
    }
   ],
   "source": [
    "df"
   ]
  },
  {
   "cell_type": "code",
   "execution_count": 153,
   "metadata": {
    "collapsed": false
   },
   "outputs": [],
   "source": [
    "# wc -l ah.nt er.nt gr.nt iw.nt kl.nt ly.nt dict.nt ontology.nt\n",
    "data = \"\"\"  142584 ah.nt\n",
    "  847892 er.nt\n",
    "  334647 gr.nt\n",
    "  732150 iw.nt\n",
    "  172492 kl.nt\n",
    "   59225 ly.nt\n",
    "   77318 dict.nt\n",
    "     182 ontology.nt\n",
    " 2366490 total\"\"\"\n",
    "\n",
    "row = {}\n",
    "for item in [l.strip().split(\" \") for l in data.split(\"\\n\")]:\n",
    "    num_triples, name = item\n",
    "    if name.endswith(\".nt\"):\n",
    "        name = name[:-3]\n",
    "    row[name] = int(num_triples)\n",
    "#df.add(axis=1, pd.Series(row))\n",
    "df = df.append(pd.Series(row, name=\"triples\"))"
   ]
  },
  {
   "cell_type": "code",
   "execution_count": 158,
   "metadata": {
    "collapsed": false
   },
   "outputs": [
    {
     "data": {
      "text/html": [
       "<div>\n",
       "<style>\n",
       "    .dataframe thead tr:only-child th {\n",
       "        text-align: right;\n",
       "    }\n",
       "\n",
       "    .dataframe thead th {\n",
       "        text-align: left;\n",
       "    }\n",
       "\n",
       "    .dataframe tbody tr th {\n",
       "        vertical-align: top;\n",
       "    }\n",
       "</style>\n",
       "<table border=\"1\" class=\"dataframe\">\n",
       "  <thead>\n",
       "    <tr style=\"text-align: right;\">\n",
       "      <th></th>\n",
       "      <th>ah</th>\n",
       "      <th>dict</th>\n",
       "      <th>er</th>\n",
       "      <th>gr</th>\n",
       "      <th>iw</th>\n",
       "      <th>kl</th>\n",
       "      <th>ly</th>\n",
       "      <th>ontology</th>\n",
       "      <th>total</th>\n",
       "    </tr>\n",
       "  </thead>\n",
       "  <tbody>\n",
       "    <tr>\n",
       "      <th>trial0</th>\n",
       "      <td>24.676762</td>\n",
       "      <td>15.005899</td>\n",
       "      <td>144.429318</td>\n",
       "      <td>57.927361</td>\n",
       "      <td>125.513920</td>\n",
       "      <td>30.138804</td>\n",
       "      <td>10.755176</td>\n",
       "      <td>0.039934</td>\n",
       "      <td>4.084930e+02</td>\n",
       "    </tr>\n",
       "    <tr>\n",
       "      <th>trial1</th>\n",
       "      <td>26.818481</td>\n",
       "      <td>15.032189</td>\n",
       "      <td>148.951856</td>\n",
       "      <td>58.043277</td>\n",
       "      <td>127.087027</td>\n",
       "      <td>30.365553</td>\n",
       "      <td>10.815241</td>\n",
       "      <td>0.086630</td>\n",
       "      <td>4.172214e+02</td>\n",
       "    </tr>\n",
       "    <tr>\n",
       "      <th>trial2</th>\n",
       "      <td>27.245760</td>\n",
       "      <td>15.226519</td>\n",
       "      <td>157.855730</td>\n",
       "      <td>63.890131</td>\n",
       "      <td>133.323030</td>\n",
       "      <td>32.337261</td>\n",
       "      <td>11.117338</td>\n",
       "      <td>0.078494</td>\n",
       "      <td>4.410959e+02</td>\n",
       "    </tr>\n",
       "    <tr>\n",
       "      <th>mean</th>\n",
       "      <td>26.247001</td>\n",
       "      <td>15.088202</td>\n",
       "      <td>150.412301</td>\n",
       "      <td>59.953590</td>\n",
       "      <td>128.641326</td>\n",
       "      <td>30.947206</td>\n",
       "      <td>10.895918</td>\n",
       "      <td>0.068353</td>\n",
       "      <td>4.222701e+02</td>\n",
       "    </tr>\n",
       "    <tr>\n",
       "      <th>triples</th>\n",
       "      <td>142584.000000</td>\n",
       "      <td>77318.000000</td>\n",
       "      <td>847892.000000</td>\n",
       "      <td>334647.000000</td>\n",
       "      <td>732150.000000</td>\n",
       "      <td>172492.000000</td>\n",
       "      <td>59225.000000</td>\n",
       "      <td>182.000000</td>\n",
       "      <td>2.366490e+06</td>\n",
       "    </tr>\n",
       "  </tbody>\n",
       "</table>\n",
       "</div>"
      ],
      "text/plain": [
       "                    ah          dict             er             gr  \\\n",
       "trial0       24.676762     15.005899     144.429318      57.927361   \n",
       "trial1       26.818481     15.032189     148.951856      58.043277   \n",
       "trial2       27.245760     15.226519     157.855730      63.890131   \n",
       "mean         26.247001     15.088202     150.412301      59.953590   \n",
       "triples  142584.000000  77318.000000  847892.000000  334647.000000   \n",
       "\n",
       "                    iw             kl            ly    ontology         total  \n",
       "trial0      125.513920      30.138804     10.755176    0.039934  4.084930e+02  \n",
       "trial1      127.087027      30.365553     10.815241    0.086630  4.172214e+02  \n",
       "trial2      133.323030      32.337261     11.117338    0.078494  4.410959e+02  \n",
       "mean        128.641326      30.947206     10.895918    0.068353  4.222701e+02  \n",
       "triples  732150.000000  172492.000000  59225.000000  182.000000  2.366490e+06  "
      ]
     },
     "execution_count": 158,
     "metadata": {},
     "output_type": "execute_result"
    }
   ],
   "source": [
    "df"
   ]
  },
  {
   "cell_type": "code",
   "execution_count": 188,
   "metadata": {
    "collapsed": false
   },
   "outputs": [
    {
     "data": {
      "text/plain": [
       "<matplotlib.axes._subplots.AxesSubplot at 0x11a2be470>"
      ]
     },
     "execution_count": 188,
     "metadata": {},
     "output_type": "execute_result"
    },
    {
     "data": {
      "image/png": "[encoded data removed]",
      "text/plain": [
       "<matplotlib.figure.Figure at 0x115bf3e48>"
      ]
     },
     "metadata": {},
     "output_type": "display_data"
    }
   ],
   "source": [
    "%matplotlib inline\n",
    "ax = (df.loc[\"mean\", \"ah\":\"ontology\"]/df.loc[\"mean\", \"ah\":\"ontology\"].max()).plot(kind=\"line\")\n",
    "(df.loc[\"triples\", \"ah\":\"ontology\"]/df.loc[\"triples\", \"ah\":\"ontology\"].max()).plot(kind=\"line\", ax=ax)\n",
    "# there is literally no scalability problem for this size of data"
   ]
  },
  {
   "cell_type": "code",
   "execution_count": 313,
   "metadata": {
    "collapsed": false
   },
   "outputs": [
    {
     "name": "stdout",
     "output_type": "stream",
     "text": [
      "ah [129, 241, 275, 522, 777, 920, 967, 1014, 1165, 1334]\n",
      "er [34, 464, 1537, 3439, 4363, 6386, 7090, 7297, 7993, 9952]\n",
      "gr [91, 125, 418, 937, 1300, 2421, 2955, 3284, 3692, 3871]\n",
      "iw [75, 208, 1774, 3122, 4435, 5321, 5623, 7219, 7693, 7938]\n",
      "kl [59, 454, 477, 864, 896, 1015, 1080, 1132, 1486, 1564]\n",
      "Evaluation successful!\n"
     ]
    }
   ],
   "source": [
    "# random numbers for evaluation\n",
    "import random\n",
    "import requests\n",
    "import json\n",
    "\n",
    "verse_numbers = {\n",
    "    \"ah\": 1520,\n",
    "    \"er\": 10135,\n",
    "    \"gr\": 4006,\n",
    "    \"iw\": 8166,\n",
    "    \"kl\": 1914\n",
    "}\n",
    "\n",
    "# hva:lineInText hva:msA hva:msB hva:msBa hva:msBb hva:msC hva:msD hva:msE hva:msF hva:msFvS hva:msG hva:msK hva:msV hva:msW hva:msZ hva:note hva:text hva:translation hva:verseNumber\n",
    "test_verses = \"\"\"\n",
    "PREFIX hva: <http://www.ebusiness-unibw.org/ontologies/hva/ontology#>\n",
    "PREFIX data: <http://www.ebusiness-unibw.org/ontologies/hva/%s#>\n",
    "\n",
    "ask\n",
    "where {\n",
    "  ?verse_uri a hva:Verse .\n",
    "  ?verse_uri hva:lineInText ?line .\n",
    "  #?verse_uri hva:note ?note_uri . # optional\n",
    "  ?verse_uri hva:text ?text .\n",
    "  #?verse_uri hva:translation ?translation . # not available - only available for words\n",
    "  ?verse_uri hva:verseNumber ?vnum .\n",
    "  ?verse_uri rdfs:isDefinedBy data:Ontology .\n",
    "  # foaf:img and foaf:page links\n",
    "  FILTER(str(?vnum) = \"%s\")\n",
    "}\n",
    "\"\"\"\n",
    "\n",
    "# hva:entry hva:grammar hva:lemma hva:partOfVerse hva:positionInVerse hva:text hva:translation hva:word\n",
    "test_words = \"\"\"\n",
    "PREFIX hva: <http://www.ebusiness-unibw.org/ontologies/hva/ontology#>\n",
    "PREFIX data: <http://www.ebusiness-unibw.org/ontologies/hva/%s#>\n",
    "\n",
    "ask\n",
    "where {\n",
    "  ?word_uri a hva:Word .\n",
    "  #?word_uri hva:entry ?entry . # used only if word part of dictentry\n",
    "  ?word_uri hva:grammar ?grammar .\n",
    "  ?word_uri hva:lemma ?lemma .\n",
    "  ?word_uri hva:partOfVerse ?verse_uri .\n",
    "  ?verse_uri hva:verseNumber ?vnum .\n",
    "  ?word_uri hva:positionInVerse ?pos .\n",
    "  #?word_uri hva:text ?text . # not used in datasets\n",
    "  ?word_uri hva:translation ?translation .\n",
    "  ?word_uri hva:word ?word .\n",
    "  ?word_uri rdfs:isDefinedBy data:Ontology .\n",
    "  FILTER(str(?vnum) = \"%s\")\n",
    "}\n",
    "\"\"\"\n",
    "\n",
    "random.seed(a=1)\n",
    "for poem, limit in verse_numbers.items():\n",
    "    random_numbers = sorted(random.sample(k=10, population=range(verse_numbers[poem])))\n",
    "    print (poem, random_numbers)\n",
    "    for number in random_numbers:\n",
    "        query_string = test_verses % (poem, number)\n",
    "        #print (query_string)\n",
    "        r = requests.post(url=\"http://tools.ebusiness-unibw.org:9090/sparql\", data={\"query\": query_string}, headers={\"Accept\": \"application/sparql-results+json\"})\n",
    "        assert(json.loads(r.text)[\"boolean\"] == True)\n",
    "        query_string = test_words % (poem, number)\n",
    "        #print (query_string)\n",
    "        r = requests.post(url=\"http://tools.ebusiness-unibw.org:9090/sparql\", data={\"query\": query_string}, headers={\"Accept\": \"application/sparql-results+json\"})\n",
    "        assert(json.loads(r.text)[\"boolean\"] == True)\n",
    "print(\"Evaluation successful!\")"
   ]
  },
  {
   "cell_type": "code",
   "execution_count": null,
   "metadata": {
    "collapsed": true
   },
   "outputs": [],
   "source": []
  },
  {
   "cell_type": "code",
   "execution_count": null,
   "metadata": {
    "collapsed": true
   },
   "outputs": [],
   "source": []
  }
 ],
 "metadata": {
  "kernelspec": {
   "display_name": "Python 3",
   "language": "python",
   "name": "python3"
  },
  "language_info": {
   "codemirror_mode": {
    "name": "ipython",
    "version": 3
   },
   "file_extension": ".py",
   "mimetype": "text/x-python",
   "name": "python",
   "nbconvert_exporter": "python",
   "pygments_lexer": "ipython3",
   "version": "3.6.1"
  }
 },
 "nbformat": 4,
 "nbformat_minor": 1
}
