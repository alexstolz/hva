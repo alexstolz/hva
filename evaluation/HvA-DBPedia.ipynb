{
 "cells": [
  {
   "cell_type": "markdown",
   "metadata": {},
   "source": [
    "# HvA Linked Data\n",
    "\n",
    "## Library Imports and Constants"
   ]
  },
  {
   "cell_type": "code",
   "execution_count": 2,
   "metadata": {
    "collapsed": true
   },
   "outputs": [],
   "source": [
    "import requests\n",
    "import json\n",
    "import matplotlib.pyplot as plt\n",
    "%matplotlib inline\n",
    "from IPython.core.display import display, HTML\n",
    "\n",
    "EP = \"http://tools.ebusiness-unibw.org:9090/sparql\""
   ]
  },
  {
   "cell_type": "markdown",
   "metadata": {},
   "source": [
    "## Helper Functions"
   ]
  },
  {
   "cell_type": "code",
   "execution_count": 3,
   "metadata": {
    "collapsed": true
   },
   "outputs": [],
   "source": [
    "def query(query=None, accept=\"text/html\"):\n",
    "    if not query:\n",
    "        print \"No query specified\"\n",
    "        return\n",
    "    #headers = {\"Accept\": \"application/sparql-results+json\"}\n",
    "    headers = {\"Accept\": accept}\n",
    "    params = {\"query\": query}\n",
    "    #params = {\"default-graph-uri\": \"http://localhost:9090/hva\", \"query\": query}\n",
    "    r = requests.get(EP, headers=headers, params=params)\n",
    "    if accept == \"text/html\":\n",
    "        display(HTML(r.text))\n",
    "    elif accept == \"application/sparql-results+json\" or accept == \"application/json\":\n",
    "        obj = json.loads(r.text)\n",
    "        return obj\n",
    "    else:\n",
    "        return r.text"
   ]
  },
  {
   "cell_type": "code",
   "execution_count": 4,
   "metadata": {
    "collapsed": false
   },
   "outputs": [
    {
     "name": "stdout",
     "output_type": "stream",
     "text": [
      "\"label\",\"abstract\",\"text\"\n",
      "\"Der arme Heinrich\",\"Der arme Heinrich ist eine mittelhochdeutsche Verserzählung von Hartmann von Aue. Sie entstand wahrscheinlich in den 1190er Jahren und gilt als vorletztes der vier epischen Werke Hartmanns. Die kurze Versnovelle über einen hochadligen Ritter, der durch Gott mit Aussatz gezeichnet wird und nur durch das Herzblut einer sich freiwillig opfernden Jungfrau geheilt werden kann, verbindet höfische und geistliche Erzählmuster. Um 1200 gibt es kaum verwandte Erzählungen.\",\n",
      "\n"
     ]
    }
   ],
   "source": [
    "q = \"\"\"\n",
    "PREFIX hva: <http://www.ebusiness-unibw.org/ontologies/hva/ontology#>\n",
    "PREFIX data: <http://www.ebusiness-unibw.org/ontologies/hva/ah#>\n",
    "PREFIX dbo: <http://dbpedia.org/ontology/>\n",
    "PREFIX dbpedia: <http://dbpedia.org/resource/>\n",
    "\n",
    "SELECT ?label ?abstract ?text\n",
    "WHERE {\n",
    "  data:Ontology a owl:Ontology .\n",
    "  data:Ontology rdfs:label ?label .\n",
    "  {\n",
    "    SERVICE <http://dbpedia.org/sparql> {\n",
    "      SELECT ?abstract\n",
    "      WHERE {\n",
    "        dbpedia:Der_arme_Heinrich dbo:abstract ?abstract .\n",
    "        FILTER(lang(?abstract) = \"de\")\n",
    "      }\n",
    "    }\n",
    "  }\n",
    "}\n",
    "\"\"\"\n",
    "print query(q, \"text/csv\")"
   ]
  },
  {
   "cell_type": "code",
   "execution_count": 74,
   "metadata": {
    "collapsed": true
   },
   "outputs": [],
   "source": [
    "def rdftranslator(content, iformat=\"detect\", oformat=\"n3\"):\n",
    "    return requests.post(\"http://rdf-translator2.appspot.com/convert/%s/%s/html/content\" % (iformat, oformat), {\"content\": content}).text"
   ]
  },
  {
   "cell_type": "code",
   "execution_count": 85,
   "metadata": {
    "collapsed": false
   },
   "outputs": [
    {
     "data": {
      "text/html": [
       "<!DOCTYPE html>\n",
       "<html>\n",
       "    <head>\n",
       "    \t<meta http-equiv=\"Content-Type\" content=\"text/html; charset=utf-8\">\n",
       "    \t<title>RDF Translator - n3 of content</title>\n",
       "    \t<link rel=\"stylesheet\" type=\"text/css\" href=\"/static/pygments.css\"/>\n",
       "    \t<style type=\"text/css\">\n",
       "    \t<!--\n",
       "    \tbody {\n",
       "    \t  margin: 0 auto;\n",
       "    \t  paddin: 0\n",
       "    \t}\n",
       "    \tdiv, pre {\n",
       "    \t  margin: 0;\n",
       "    \t  padding: 0;\n",
       "    \t}\n",
       "    \t.highlight {\n",
       "    \t  padding: 12px;\n",
       "    \t  background-color: #FFFFFF;\n",
       "    \t}\n",
       "    \t-->\n",
       "    \t</style>\n",
       "    \t<meta name=\"author\" content=\"Alex Stolz\">\n",
       "    </head>\n",
       "    <body>\n",
       "<div class=\"highlight\"><pre><span class=\"k\">@prefix </span><span class=\"nv\">dcterms: </span><span class=\"nn\">&lt;http://purl.org/dc/terms/&gt; .</span>\n",
       "<span class=\"k\">@prefix </span><span class=\"nv\">rdf: </span><span class=\"nn\">&lt;http://www.w3.org/1999/02/22-rdf-syntax-ns#&gt; .</span>\n",
       "<span class=\"k\">@prefix </span><span class=\"nv\">rdfs: </span><span class=\"nn\">&lt;http://www.w3.org/2000/01/rdf-schema#&gt; .</span>\n",
       "<span class=\"k\">@prefix </span><span class=\"nv\">xml: </span><span class=\"nn\">&lt;http://www.w3.org/XML/1998/namespace&gt; .</span>\n",
       "<span class=\"k\">@prefix </span><span class=\"nv\">xsd: </span><span class=\"nn\">&lt;http://www.w3.org/2001/XMLSchema#&gt; .</span>\n",
       "\n",
       "<span class=\"nc\">&lt;http://www.ebusiness-unibw.org/ontologies/hva/ah#Ontology&gt;</span><span class=\"o\"> rdfs:label </span><span class=\"s\">&quot;Der arme Heinrich&quot;</span><span class=\"err\">@</span><span class=\"na\">de</span><span class=\"err\">,</span><span class=\"s\"></span>\n",
       "<span class=\"s\">        &quot;Der arme Heinrich&quot;</span><span class=\"err\">@</span><span class=\"na\">en</span><span class=\"err\">,</span><span class=\"s\"></span>\n",
       "<span class=\"s\">        &quot;El pobre Enrique&quot;</span><span class=\"err\">@</span><span class=\"na\">es</span><span class=\"err\">,</span><span class=\"s\"></span>\n",
       "<span class=\"s\">        &quot;哀れなハインリヒ&quot;</span><span class=\"err\">@</span><span class=\"na\">ja </span>;\n",
       "    <span class=\"o\">dcterms:subject </span><span class=\"na\">&lt;http://dbpedia.org/resource/Category:12th-century_books&gt;</span><span class=\"err\">,</span><span class=\"na\"></span>\n",
       "<span class=\"na\">        &lt;http://dbpedia.org/resource/Category:German_poems&gt;</span><span class=\"err\">,</span><span class=\"na\"></span>\n",
       "<span class=\"na\">        &lt;http://dbpedia.org/resource/Category:Middle_High_German_literature&gt;</span><span class=\"err\">,</span><span class=\"na\"></span>\n",
       "<span class=\"na\">        &lt;http://dbpedia.org/resource/Category:Works_by_Hartmann_von_Aue&gt;</span> ;\n",
       "    <span class=\"o\">rdfs:comment </span><span class=\"s\">&quot;Der arme Heinrich ist eine mittelhochdeutsche Verserzählung von Hartmann von Aue. Sie entstand wahrscheinlich in den 1190er Jahren und gilt als vorletztes der vier epischen Werke Hartmanns. Die kurze Versnovelle über einen hochadligen Ritter, der durch Gott mit Aussatz gezeichnet wird und nur durch das Herzblut einer sich freiwillig opfernden Jungfrau geheilt werden kann, verbindet höfische und geistliche Erzählmuster. Um 1200 gibt es kaum verwandte Erzählungen.&quot;</span><span class=\"err\">@</span><span class=\"na\">de</span><span class=\"err\">,</span><span class=\"s\"></span>\n",
       "<span class=\"s\">        &quot;Der arme Heinrich (Poor Heinrich) is a Middle High German narrative poem by Hartmann von Aue. It was probably written in the 1190s and was the second to last of Hartmann&#39;s four epic works. The poem combines courtly and religious narrative patterns to tell the story of a noble knight who has been stricken by God with leprosy; he can only be cured by the heart&#39;s blood of a virgin who willingly sacrifices herself for his salvation.&quot;</span><span class=\"err\">@</span><span class=\"na\">en</span><span class=\"err\">,</span><span class=\"s\"></span>\n",
       "<span class=\"s\">        &quot;El pobre Enrique, en alemán Der Arme Heinrich, es un poema narrativo en alto alemán medio escrito por Hartmann von Aue, probablemente en la década de 1190. Fue la segunda de las últimas obras épicas de Hartmann. El poema combina los esquemas de la narrativa cortés y religiosa para contarnos la historia de un noble caballero que fue probado por Dios con la lepra, y sólo puede ser curado con la sangre del corazón de una virgen que se sacrifique de buen grado por su salvación.&quot;</span><span class=\"err\">@</span><span class=\"na\">es</span><span class=\"err\">,</span><span class=\"s\"></span>\n",
       "<span class=\"s\">        &quot;『哀れなハインリヒ』（原題 Der arme Heinrich）は中世ドイツの詩人ハルトマン・フォン・アウエ（Hartmann von Aue12世紀後半から13世紀初期）の代表作。残されているハルトマンの4つの作品のうちではもっとも短いが、日本でも比較的よく知られている。癩病（ハンセン病）に冒された騎士と、彼を慕い命を奉げようと決意した清純な少女を描いた物語詩。&quot;</span><span class=\"err\">@</span><span class=\"na\">ja </span>.\n",
       "</pre></div>\n",
       "\n",
       "    </body>\n",
       "</html>"
      ],
      "text/plain": [
       "<IPython.core.display.HTML object>"
      ]
     },
     "metadata": {},
     "output_type": "display_data"
    }
   ],
   "source": [
    "q = \"\"\"\n",
    "PREFIX hva: <http://www.ebusiness-unibw.org/ontologies/hva/ontology#>\n",
    "PREFIX data: <http://www.ebusiness-unibw.org/ontologies/hva/ah#>\n",
    "PREFIX dbo: <http://dbpedia.org/ontology/>\n",
    "PREFIX dbpedia: <http://dbpedia.org/resource/>\n",
    "PREFIX dct: <http://purl.org/dc/terms/>\n",
    "\n",
    "CONSTRUCT {\n",
    "  data:Ontology rdfs:label ?label .\n",
    "  data:Ontology rdfs:comment ?abstract .\n",
    "  data:Ontology dct:subject ?subject .\n",
    "}\n",
    "WHERE {\n",
    "  data:Ontology a owl:Ontology .\n",
    "  {\n",
    "    SERVICE <http://dbpedia.org/sparql> {\n",
    "      SELECT ?abstract ?subject ?label\n",
    "      WHERE {\n",
    "        dbpedia:Der_arme_Heinrich dbo:abstract ?abstract .\n",
    "        dbpedia:Der_arme_Heinrich dct:subject ?subject .\n",
    "        dbpedia:Der_arme_Heinrich rdfs:label ?label .\n",
    "      }\n",
    "    }\n",
    "  }\n",
    "}\n",
    "\"\"\"\n",
    "display(HTML(rdftranslator(query(q, \"application/rdf+xml\"))))"
   ]
  },
  {
   "cell_type": "code",
   "execution_count": null,
   "metadata": {
    "collapsed": true
   },
   "outputs": [],
   "source": []
  }
 ],
 "metadata": {
  "kernelspec": {
   "display_name": "Python 2",
   "language": "python",
   "name": "python2"
  },
  "language_info": {
   "codemirror_mode": {
    "name": "ipython",
    "version": 2
   },
   "file_extension": ".py",
   "mimetype": "text/x-python",
   "name": "python",
   "nbconvert_exporter": "python",
   "pygments_lexer": "ipython2",
   "version": "2.7.13"
  }
 },
 "nbformat": 4,
 "nbformat_minor": 1
}
